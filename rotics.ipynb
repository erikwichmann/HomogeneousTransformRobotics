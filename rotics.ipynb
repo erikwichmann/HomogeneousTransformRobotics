{
 "cells": [
  {
   "cell_type": "markdown",
   "id": "3cb5a7fd-4867-4107-9227-c9fd1898e64b",
   "metadata": {},
   "source": [
    "# Educational Notebook for Homogeneous Coordinates in Robotics\n",
    "This Notebook provides a framework to visualize a robotic joints with the underlying math for Transformations in homogeneous coordinates.\\\n",
    "This Notebook is written by Erik Wichmann"
   ]
  },
  {
   "cell_type": "markdown",
   "id": "4b5e9b79-7a4a-4841-b79e-5faf823ebd5e",
   "metadata": {},
   "source": [
    "# Libaries Installation\n",
    "Symbolic math with LaTeX output of Matrices via Sympy\\\n"
   ]
  },
  {
   "cell_type": "code",
   "execution_count": 18,
   "id": "cb952f8e-01ec-407d-b564-e4b50cab8836",
   "metadata": {},
   "outputs": [
    {
     "name": "stdout",
     "output_type": "stream",
     "text": [
      "Requirement already satisfied: sympy in /opt/conda/lib/python3.9/site-packages (1.11.1)\n",
      "Requirement already satisfied: mpmath>=0.19 in /opt/conda/lib/python3.9/site-packages (from sympy) (1.2.1)\n"
     ]
    }
   ],
   "source": [
    "import sys\n",
    "!{sys.executable} -m pip install sympy  "
   ]
  },
  {
   "cell_type": "markdown",
   "id": "59e3d1ca-4579-4054-a683-232dd18d5161",
   "metadata": {},
   "source": [
    "# Import all necessary Libraries"
   ]
  },
  {
   "cell_type": "code",
   "execution_count": 19,
   "id": "e54bce27-a865-40bf-8750-9618d03b1e10",
   "metadata": {},
   "outputs": [],
   "source": [
    "%matplotlib widget\n",
    "import ipywidgets as widgets\n",
    "import matplotlib.pyplot as plt\n",
    "import numpy as np\n",
    "from sympy import *\n"
   ]
  },
  {
   "cell_type": "code",
   "execution_count": 20,
   "id": "44f54791-de9c-4a58-af29-661c178dd6bb",
   "metadata": {},
   "outputs": [],
   "source": [
    "#3D Plotting\n",
    "import matplotlib.pyplot as plt\n",
    "from mpl_toolkits.mplot3d.proj3d import proj_transform\n",
    "from mpl_toolkits.mplot3d.axes3d import Axes3D\n",
    "from matplotlib.patches import FancyArrowPatch\n"
   ]
  },
  {
   "cell_type": "markdown",
   "id": "e184ec5e-8538-4d6b-bbf4-c8e4faac2ea8",
   "metadata": {},
   "source": [
    "## Extend Matplotlib to plot arrows in 3D space\n",
    "Implementation of the class is based on the gitHub gist from WetHat at https://gist.github.com/WetHat/1d6cd0f7309535311a539b42cccca89c \\\n",
    "but modified to handle homogeneous coordinates from sympy."
   ]
  },
  {
   "cell_type": "code",
   "execution_count": 21,
   "id": "f35b3a0b-62fe-40a1-920d-93365cf4c09f",
   "metadata": {},
   "outputs": [],
   "source": [
    "class Arrow3D(FancyArrowPatch):\n",
    "\n",
    "    def __init__(self, p0, p1, *args, **kwargs):\n",
    "        super().__init__((0, 0), (0, 0), *args, **kwargs)\n",
    "        self._xyz0 = map(float,p0.evalf()[:-1])\n",
    "        self._xyz1 = map(float,p1.evalf()[:-1])       \n",
    "\n",
    "    def draw(self, renderer):\n",
    "        x0, y0, z0 = self._xyz0\n",
    "        x1, y1, z1 = self._xyz1\n",
    "\n",
    "        xs, ys, zs = proj_transform((x0, x1), (y0, y1), (z0, z1), self.axes.M)\n",
    "        self.set_positions((xs[0], ys[0]), (xs[1], ys[1]))\n",
    "        super().draw(renderer)\n",
    "        \n",
    "    def do_3d_projection(self, renderer=None):\n",
    "        x0, y0, z0 = self._xyz0\n",
    "        x1, y1, z1 = self._xyz1\n",
    "\n",
    "        xs, ys, zs = proj_transform((x0, x1), (y0, y1), (z0, z1), self.axes.M)\n",
    "        self.set_positions((xs[0], ys[0]), (xs[1], ys[1]))\n",
    "\n",
    "        return np.min(zs) \n",
    "\n",
    "\n",
    "def _arrow3D(ax, p0, p1, *args, **kwargs):\n",
    "    '''Add an 3d arrow to an `Axes3D` instance.'''\n",
    "        \n",
    "    arrow = Arrow3D(p0, p1, *args, **kwargs)\n",
    "    ax.add_artist(arrow)\n",
    "\n",
    "\n",
    "setattr(Axes3D, 'arrow3D', _arrow3D)"
   ]
  },
  {
   "cell_type": "code",
   "execution_count": null,
   "id": "7d2d3b92-d8a3-48e0-8cac-52da413ed41b",
   "metadata": {},
   "outputs": [],
   "source": []
  },
  {
   "cell_type": "markdown",
   "id": "d74200d8-ac1e-4c53-9b00-affaeae79eb0",
   "metadata": {},
   "source": [
    "# Constructing a SCARA Robot\n",
    "<img src=\"https://upload.wikimedia.org/wikipedia/commons/thumb/2/2d/KUKA_Industrial_Robot_KR10_SCARA.jpg/220px-KUKA_Industrial_Robot_KR10_SCARA.jpg\" />\n",
    "\n",
    "### Setup SCARA Transformation Matrices\n",
    "All parameters in the matrices are implemented as math symbols and the actual value of $h_1$, $h_2$, etc. is defined in *h1_val*. The actual values of $h_1$, etc. get substituted just before drawing the actual robot, so you can change the geometry later by running for example *h1_val = 2* to reduce height $h_1$ to 2.\n",
    "This is implemented this way for educational pourposes, so you can *pprint()* any transformation matrix of interest and read out the algebraic equation instead of the actual computed numbers.\n",
    "\n"
   ]
  },
  {
   "cell_type": "code",
   "execution_count": 23,
   "id": "d23c4ca7-83d5-4a1c-b5bf-491de09bcfec",
   "metadata": {},
   "outputs": [
    {
     "data": {
      "text/latex": [
       "$\\displaystyle \\left[\\begin{matrix}\\cos{\\left(- q_{1} + q_{2} + q_{4} \\right)} & - \\sin{\\left(- q_{1} + q_{2} + q_{4} \\right)} & 0 & l_{1} \\cos{\\left(q_{1} \\right)} + l_{2} \\cos{\\left(q_{1} - q_{2} \\right)}\\\\- \\sin{\\left(- q_{1} + q_{2} + q_{4} \\right)} & - \\cos{\\left(- q_{1} + q_{2} + q_{4} \\right)} & 0 & l_{1} \\sin{\\left(q_{1} \\right)} + l_{2} \\sin{\\left(q_{1} - q_{2} \\right)}\\\\0 & 0 & -1 & h_{1} + h_{2} + h_{3} - l_{3} - q_{3}\\\\0 & 0 & 0 & 1\\end{matrix}\\right]$"
      ],
      "text/plain": [
       "Matrix([\n",
       "[ cos(-q1 + q2 + q4), -sin(-q1 + q2 + q4),  0, l1*cos(q1) + l2*cos(q1 - q2)],\n",
       "[-sin(-q1 + q2 + q4), -cos(-q1 + q2 + q4),  0, l1*sin(q1) + l2*sin(q1 - q2)],\n",
       "[                  0,                   0, -1,       h1 + h2 + h3 - l3 - q3],\n",
       "[                  0,                   0,  0,                            1]])"
      ]
     },
     "execution_count": 23,
     "metadata": {},
     "output_type": "execute_result"
    }
   ],
   "source": [
    "#Predefine SCARA robot\n",
    "#\n",
    "q1, q2, q3, q4 = symbols('q1, q2, q3, q4')\n",
    "l1, l2, l3 = symbols('l1, l2, l3')\n",
    "h1, h2, h3 = symbols('h1, h2, h3')\n",
    "\n",
    "q5, q6 = symbols('q5, q6')\n",
    "\n",
    "h1_val = 5\n",
    "h2_val = 0.5\n",
    "h3_val = 2\n",
    "l1_val = 4\n",
    "l2_val = 2\n",
    "l3_val = 4\n",
    "\n",
    "T0_1 = Matrix([[cos(q1), -sin(q1), 0,  0],\n",
    "              [ sin(q1),  cos(q1), 0,  0],\n",
    "              [       0,        0, 1, h1],\n",
    "              [       0,        0, 0,  1]])\n",
    "\n",
    "T1_2 = Matrix([[ cos(q2), -sin(q2),  0, l1],\n",
    "              [ -sin(q2), -cos(q2),  0,  0],\n",
    "              [        0,        0, -1, h2],\n",
    "              [        0,        0,  0,  1]])\n",
    "\n",
    "T2_3 = Matrix([[1, 0, 0,     l2],\n",
    "              [ 0, 1, 0,      0],\n",
    "              [ 0, 0, 1, -h3+q3],\n",
    "              [ 0, 0, 0,      1]])\n",
    "\n",
    "T3_4 = Matrix([[cos(q4), -sin(q4), 0,  0],\n",
    "              [ sin(q4),  cos(q4), 0,  0],\n",
    "              [       0,        0, 1, l3],\n",
    "              [       0,        0, 0,  1]])\n",
    "\n",
    "\n",
    "# Transformation matrices for all joints\n",
    "T0_2 = T0_1*T1_2\n",
    "T0_3 = T0_1*T1_2*T2_3\n",
    "T0_4 = T0_1*T1_2*T2_3*T3_4\n",
    "\n",
    "\n",
    "simplify(T0_4)"
   ]
  },
  {
   "cell_type": "markdown",
   "id": "c4819b89-5260-4b53-9e1b-fef01eb1a536",
   "metadata": {},
   "source": [
    "# Create 3D-Plotter via Matplotlib\n",
    "This codeblock defines all necessary functions to plot the new coordinate system into the Matplotlib figure.\n",
    "\n"
   ]
  },
  {
   "cell_type": "code",
   "execution_count": 24,
   "id": "f43f697e-212d-4175-b93b-2ed3ce559c71",
   "metadata": {},
   "outputs": [
    {
     "data": {
      "application/vnd.jupyter.widget-view+json": {
       "model_id": "a341fcd8f98540db8b22982c8e209e94",
       "version_major": 2,
       "version_minor": 0
      },
      "text/plain": [
       "Canvas(toolbar=Toolbar(toolitems=[('Home', 'Reset original view', 'home', 'home'), ('Back', 'Back to previous …"
      ]
     },
     "metadata": {},
     "output_type": "display_data"
    },
    {
     "data": {
      "application/vnd.jupyter.widget-view+json": {
       "model_id": "13845df424804cb98085a8b83359a44f",
       "version_major": 2,
       "version_minor": 0
      },
      "text/plain": [
       "interactive(children=(IntSlider(value=0, description='q1_rotation1', max=90, min=-90, step=5), IntSlider(value…"
      ]
     },
     "metadata": {},
     "output_type": "display_data"
    }
   ],
   "source": [
    "#fig, ax = plt.subplots(figsize=(5,5))\n",
    "#ax = fig.add_subplot(111, projection='3d')\n",
    "\n",
    "plt.close('all')\n",
    "fig = plt.figure()\n",
    "ax = fig.add_subplot(111, projection='3d')\n",
    "fig.tight_layout()\n",
    "\n",
    "\n",
    "def plotRobotPart3D(T, p, showBase=True,*args, **kwargs):\n",
    "    \"\"\"\n",
    "    T is the Transformation Matrix containing the Basis of the local coordinate system \n",
    "    p is the vector conecting the local basis to the next one \n",
    "    \"\"\"\n",
    "    \n",
    "    if det(T).evalf()!=1:\n",
    "        print(\"Determinant is not 1 so something went wrong!\")\n",
    "          \n",
    "    origin = T*Matrix([0, 0, 0, 1])\n",
    "    \n",
    "    #plot xyz unit vectors   \n",
    "    if showBase:\n",
    "        ex = T*Matrix([1,0,0,1])\n",
    "        ey = T*Matrix([0,1,0,1])\n",
    "        ez = T*Matrix([0,0,1,1])\n",
    "        ax.arrow3D(origin, ex, mutation_scale=5, arrowstyle=\"->\", color='red')\n",
    "        ax.arrow3D(origin, ey, mutation_scale=5, arrowstyle=\"->\", color='green')\n",
    "        ax.arrow3D(origin, ez, mutation_scale=5, arrowstyle=\"->\", color='blue')\n",
    "        \n",
    "    p_w = T*p\n",
    "    ax.arrow3D(origin, p_w, *args, **kwargs)\n",
    "\n",
    "    \n",
    "    \n",
    "def interactiveRobot(q1_rotation1, q2_rotation2, q3_toolLift, q4_toolRotation, q5_customLift, q6_customRotation):\n",
    "       \n",
    "    #clear old drawing to refresh frame\n",
    "    ax.clear()\n",
    "    ax.set_xlim(-1,9)\n",
    "    ax.set_ylim(-5,5)\n",
    "    ax.set_zlim(0,10)\n",
    "    \n",
    "    ax.set_xlabel('x')\n",
    "    ax.set_ylabel('y')\n",
    "    ax.set_zlabel('z')\n",
    "    \n",
    "    #convert degree into radian\n",
    "    q1_rotation1 = 2*pi*q1_rotation1/360\n",
    "    q2_rotation2 = 2*pi*q2_rotation2/360\n",
    "    q4_toolRotation = 2*pi*q4_toolRotation/360\n",
    "    q6_customRotation = 2*pi*q6_customRotation/360\n",
    "        \n",
    "    #zeroVector points to (0,0,0) in homogeneous coordinates\n",
    "    zeroVector = Matrix([0,0,0,1])\n",
    "    \n",
    "    #Identity Matrix represents the Basis of the world coordinates\n",
    "    worldBasis = Matrix([[1, 0, 0, 0],\n",
    "                          [0, 1, 0, 0],\n",
    "                          [0, 0, 1, 0],\n",
    "                          [0, 0, 0, 1]])\n",
    "    \n",
    "\n",
    "    #Substitute all Symbols with the actual values \n",
    "    _T0_1 = T0_1.subs({q1:q1_rotation1, q2:q2_rotation2, q3:q3_toolLift, q4:q4_toolRotation,\n",
    "                       q5:q5_customLift, q6:q6_customRotation,\n",
    "                       h1:h1_val, h2:h2_val, h3:h3_val,\n",
    "                       l1:l1_val, l2:l2_val, l3:l3_val})\n",
    "    _T1_2 = T1_2.subs({q1:q1_rotation1, q2:q2_rotation2, q3:q3_toolLift, q4:q4_toolRotation,\n",
    "                       q5:q5_customLift, q6:q6_customRotation,\n",
    "                       h1:h1_val, h2:h2_val, h3:h3_val,\n",
    "                       l1:l1_val, l2:l2_val, l3:l3_val})\n",
    "    _T2_3 = T2_3.subs({q1:q1_rotation1, q2:q2_rotation2, q3:q3_toolLift, q4:q4_toolRotation,\n",
    "                       q5:q5_customLift, q6:q6_customRotation,\n",
    "                       h1:h1_val, h2:h2_val, h3:h3_val,\n",
    "                       l1:l1_val, l2:l2_val, l3:l3_val})\n",
    "    _T3_4 = T3_4.subs({q1:q1_rotation1, q2:q2_rotation2, q3:q3_toolLift, q4:q4_toolRotation,\n",
    "                       q5:q5_customLift, q6:q6_customRotation,\n",
    "                       h1:h1_val, h2:h2_val, h3:h3_val,\n",
    "                       l1:l1_val, l2:l2_val, l3:l3_val})\n",
    "    \n",
    "    #calculate all world to joint n transformation Matrices\n",
    "    _T0_2 = _T0_1 * _T1_2\n",
    "    _T0_3 = _T0_1 * _T1_2 * _T2_3\n",
    "    _T0_4 = _T0_1 * _T1_2 * _T2_3 * _T3_4\n",
    "    \n",
    "    #draw the Robot      \n",
    "    \n",
    "    plotRobotPart3D(worldBasis, _T0_1*zeroVector, True, color='brown',mutation_scale=15)\n",
    "    plotRobotPart3D(_T0_1, _T1_2*zeroVector, True, color='brown',mutation_scale=15)\n",
    "    plotRobotPart3D(_T0_2, _T2_3*zeroVector, True, color='brown',mutation_scale=10)\n",
    "    plotRobotPart3D(_T0_3, _T3_4*zeroVector, True, color='black',mutation_scale=10)\n",
    "    plotRobotPart3D(_T0_4, Matrix([.3, .3, .3, 1]), True, color='brown',mutation_scale=1)\n",
    " \n",
    "    plt.show()\n",
    "    pprint(_T0_4.evalf(2))\n",
    "                           \n",
    "        \n",
    "_ = widgets.interact(interactiveRobot,\n",
    "                     q1_rotation1=(-90,90,5),\n",
    "                     q2_rotation2=(-135,135,5),\n",
    "                     q3_toolLift=(-1,2,.1),\n",
    "                     q4_toolRotation=(-360,360,5),\n",
    "                     q5_customLift=(-5, 5, .2),\n",
    "                     q6_customRotation=(-180, 180, 5))\n",
    "    "
   ]
  },
  {
   "cell_type": "markdown",
   "id": "b87aa300-1e85-492a-b04f-217e8b2f4a02",
   "metadata": {},
   "source": [
    "# Plotting the Robot interactivly in 3D Space\n",
    "By utillizing the interactive widgets in jupyter lab you can change the parameters of the robot live.\n",
    "Currently there is a small bug that the 3D Plot clears when rotating it or starting it. \n",
    "*The Robot will be shown after moving one of the sliders.* \\\n",
    "It seems to be an issue only in 3D plots but matplotlib is the only 3D Plotter that doesn't require OpenGL or comparable Rendering engines, which can be hard to install in some enviroments like the RWTH jupyterhub and would decrease the educational value this notebook provides."
   ]
  },
  {
   "cell_type": "code",
   "execution_count": null,
   "id": "9d33540d-0c7a-48e6-9837-bc0f7aa1c491",
   "metadata": {},
   "outputs": [],
   "source": []
  },
  {
   "cell_type": "markdown",
   "id": "77063c0d-ef01-41ee-886e-790c5acd40b7",
   "metadata": {},
   "source": [
    "# Now it's your turn:\n",
    "## Manipulate the Transformation Matrix\n",
    "You can define now your own transformation matrix by setting *T0_1*, *T1_2*, *T2_3*, *T3_4* to whatever transformation matrix you want. Try changing the rotation axis of a joint or use $q_5$ and $q_6$ to add another functionality. Both values are currently unused!\n",
    "\n",
    "use *pprint()* if you want to see what the your resulting matrix\n",
    "use *simplify()* if you want to simplify complex trigonometric expressions of a matrix\n"
   ]
  },
  {
   "cell_type": "code",
   "execution_count": 25,
   "id": "a40886a9-ced7-4e8d-bdfa-08085523b365",
   "metadata": {},
   "outputs": [
    {
     "data": {
      "text/latex": [
       "$\\displaystyle \\left[\\begin{matrix}1 & 0 & 0 & l_{1} + q_{5}\\\\0 & - \\cos{\\left(q_{2} \\right)} & \\sin{\\left(q_{2} \\right)} & 0\\\\0 & - \\sin{\\left(q_{2} \\right)} & - \\cos{\\left(q_{2} \\right)} & h_{2}\\\\0 & 0 & 0 & 1\\end{matrix}\\right]$"
      ],
      "text/plain": [
       "Matrix([\n",
       "[1,        0,        0, l1 + q5],\n",
       "[0, -cos(q2),  sin(q2),       0],\n",
       "[0, -sin(q2), -cos(q2),      h2],\n",
       "[0,        0,        0,       1]])"
      ]
     },
     "execution_count": 25,
     "metadata": {},
     "output_type": "execute_result"
    }
   ],
   "source": [
    "# for Exaple do something like this if you want the second joint to rotate around the x-axis instead of z-axis\n",
    "\n",
    "# 1st make the linking arm extendable with slider q5\n",
    "T1_2 = Matrix([[1, 0, 0, l1+q5],\n",
    "               [0, 1, 0,     0],\n",
    "               [0, 0, 1,    h2],\n",
    "               [0, 0, 0,     1]])\n",
    "\n",
    "# 2nd rotate around x-axis by multiplying T1_2 with a rotational matrix\n",
    "T1_2 = T1_2 * Matrix([[1,       0,        0,  0],\n",
    "                      [ 0, cos(q2), -sin(q2), 0],\n",
    "                      [ 0, sin(q2),  cos(q2), 0],\n",
    "                      [ 0,       0,        0, 1]])\n",
    "# 3rd flip basis by 180° around x\n",
    "T1_2 = T1_2 * Matrix([[1,  0,  0, 0],\n",
    "                      [0, -1,  0, 0],\n",
    "                      [0,  0, -1, 0],\n",
    "                      [0,  0,  0, 1]])\n",
    "\n",
    "# state the variable name as last line of code and you get a nice LaTeX version of your matrix\n",
    "T1_2\n"
   ]
  },
  {
   "cell_type": "code",
   "execution_count": null,
   "id": "97b3911f-cc97-4c45-b00b-1b2d1180d49d",
   "metadata": {},
   "outputs": [],
   "source": [
    "\n"
   ]
  },
  {
   "cell_type": "code",
   "execution_count": null,
   "id": "52e3b344-068d-42ae-bdb7-48c888800206",
   "metadata": {},
   "outputs": [],
   "source": []
  }
 ],
 "metadata": {
  "kernelspec": {
   "display_name": "Python 3 (ipykernel)",
   "language": "python",
   "name": "python3"
  },
  "language_info": {
   "codemirror_mode": {
    "name": "ipython",
    "version": 3
   },
   "file_extension": ".py",
   "mimetype": "text/x-python",
   "name": "python",
   "nbconvert_exporter": "python",
   "pygments_lexer": "ipython3",
   "version": "3.9.7"
  }
 },
 "nbformat": 4,
 "nbformat_minor": 5
}
